{
 "cells": [
  {
   "cell_type": "code",
   "execution_count": 1,
   "id": "c917ff47-4c90-4350-9f10-d5b4ed138e60",
   "metadata": {},
   "outputs": [
    {
     "name": "stdout",
     "output_type": "stream",
     "text": [
      "high：0.097656 m,\n",
      "total:299.707031 m,\n",
      "total_time：25.507333 s\n"
     ]
    }
   ],
   "source": [
    "import math\n",
    "#n为有限次时的解,当反弹高度为0m时结束循环\n",
    "high = 100\n",
    "total = 0\n",
    "time = 0\n",
    "g = 9.8\n",
    "for i in range(10):\n",
    "    total += high #下来的高度 \n",
    "    time += math.sqrt(2*high/g)#下降时间\n",
    "    high /= 2\n",
    "    total += high #上去的高度\n",
    "    time += math.sqrt(2 * high / g) #上升时间\n",
    "print(\"high：{:.6f} m,\\ntotal:{:.6f} m,\\ntotal_time：{:.6f} s\".format(high,total,time))#输出计算结果,保留小数点后六位"
   ]
  },
  {
   "cell_type": "code",
   "execution_count": 2,
   "id": "f62c854e-c248-45ee-9a2a-6384ebdd6bad",
   "metadata": {},
   "outputs": [
    {
     "name": "stdin",
     "output_type": "stream",
     "text": [
      "请输入反弹次数n: 100\n"
     ]
    },
    {
     "name": "stdout",
     "output_type": "stream",
     "text": [
      "最大反弹次数：27\n",
      "high：0.000001 m,\n",
      "total:299.999998 m,\n",
      "total_time：26.327877 s\n"
     ]
    }
   ],
   "source": [
    "#n为有限次时的解,当反弹高度近乎为0m时结束循环\n",
    "high = 100\n",
    "total = 0\n",
    "time = 0\n",
    "g = 9.8\n",
    "n = int(input(\"请输入反弹次数n:\")) #字符串转变为数字\n",
    "for i in range(n):\n",
    "    total += high #下来的高度 \n",
    "    time += math.sqrt(2*high/g)\n",
    "    high /= 2\n",
    "    total += high #上去的高度\n",
    "    time += math.sqrt(2 * high / g)  \n",
    "    if high <1e-6 : ##反弹高度小于1e-6时结束循环，保证浮点数精度\n",
    "        print (\"最大反弹次数：{}\".format(i+1))\n",
    "        break\n",
    "print(\"high：{:.6f} m,\\ntotal:{:.6f} m,\\ntotal_time：{:.6f} s\".format(high,total,time))#输出计算结果,保留小数点后六位"
   ]
  },
  {
   "cell_type": "code",
   "execution_count": null,
   "id": "9846319d-7890-42b0-841e-455e55d841cc",
   "metadata": {},
   "outputs": [],
   "source": []
  }
 ],
 "metadata": {
  "kernelspec": {
   "display_name": "Python 3 (ipykernel)",
   "language": "python",
   "name": "python3"
  },
  "language_info": {
   "codemirror_mode": {
    "name": "ipython",
    "version": 3
   },
   "file_extension": ".py",
   "mimetype": "text/x-python",
   "name": "python",
   "nbconvert_exporter": "python",
   "pygments_lexer": "ipython3",
   "version": "3.12.7"
  }
 },
 "nbformat": 4,
 "nbformat_minor": 5
}
